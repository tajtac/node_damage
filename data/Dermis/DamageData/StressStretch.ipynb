{
 "cells": [
  {
   "cell_type": "code",
   "execution_count": 12,
   "metadata": {},
   "outputs": [],
   "source": [
    "import pandas as pd \n",
    "import numpy as np\n",
    "from matplotlib import pyplot as plt\n",
    "import matplotlib\n",
    "matplotlib.rcParams['text.usetex'] = True\n",
    "import os\n",
    "import csv\n",
    "from numpy import savetxt"
   ]
  },
  {
   "cell_type": "code",
   "execution_count": 13,
   "metadata": {},
   "outputs": [],
   "source": [
    "DmgDat = pd.read_csv(\"DamageData.csv\")\n",
    "\n",
    "#Define necessary Dictionary items to get data from force-disp raw file\n",
    "dict_it = tuple(['SetName','Cycle','Time_S','Size_mm','Displacement_mm','Force_N'])\n",
    "Type = tuple(['Stretch3','Stretch3.5','Stretch4','Stretch4.5','Stretch5'])\n",
    "\n",
    "Cycle = tuple(['1-Preload','5-Stretch'])\n"
   ]
  },
  {
   "cell_type": "code",
   "execution_count": 14,
   "metadata": {},
   "outputs": [
    {
     "name": "stdout",
     "output_type": "stream",
     "text": [
      "Processing PA_Belly_Dermis1\n",
      "Processing PA_Belly_Dermis2\n",
      "Processing PA_Belly_Dermis3\n",
      "Processing PA_Belly_Dermis4\n",
      "Processing PA_Belly_Dermis5\n",
      "Processing PA_Belly_Dermis6\n",
      "Processing PA_Breast_Dermis1\n",
      "Processing PA_Breast_Dermis2\n",
      "Processing PA_Breast_Dermis3\n",
      "Processing PA_Breast_Dermis5\n",
      "Processing PA_Breast_Dermis6\n",
      "Processing PA_Breast_Dermis7\n",
      "Processing PA_Breast_Dermis7_33\n",
      "Processing PB_Belly_Dermis1\n",
      "Processing PB_Belly_Dermis2\n",
      "Processing PB_Belly_Dermis3\n",
      "Processing PB_Belly_Dermis4\n",
      "Processing PB_Belly_Dermis5\n",
      "Processing PB_Belly_Dermis6\n",
      "Processing PB_Breast_Dermis1\n",
      "Processing PB_Breast_Dermis2\n",
      "Processing PB_Breast_Dermis3\n",
      "Processing PB_Breast_Dermis5\n",
      "Processing PB_Breast_Dermis6\n",
      "Processing PB_Breast_Dermis8\n",
      "Processing PC_Belly_Dermis1\n",
      "Processing PC_Belly_Dermis2\n",
      "Processing PC_Belly_Dermis3\n",
      "Processing PC_Belly_Dermis4\n",
      "Processing PC_Breast_Dermis1\n",
      "Processing PC_Breast_Dermis2\n",
      "Processing PC_Breast_Dermis3\n",
      "Processing PC_Breast_Dermis4\n",
      "Processing PC_Breast_Dermis5\n",
      "Processing PC_Breast_Dermis6\n",
      "Processing PC_Breast_Dermis7\n"
     ]
    }
   ],
   "source": [
    "for j in range(0,len(DmgDat)):\n",
    "    Specimen = DmgDat['Specimen'][j]\n",
    "    Filename  = Specimen+'Data.csv' #File name\n",
    "    thickness = DmgDat['Thickness'][j]   # Average thickness in mm (from measurements)\n",
    "    width = DmgDat['Width'][j]       # Average width in mm\n",
    "    ncycles = DmgDat['Ncycles'][j]\n",
    "\n",
    "    print(f\"Processing {Specimen}\")\n",
    "    fig,ax  = plt.subplots(1,sharey=False,dpi=300)\n",
    "\n",
    "    i = 0\n",
    "    Time = []\n",
    "    Size = []\n",
    "    Force = []\n",
    "    Force = []\n",
    "\n",
    "    for i in range(0,len(Type)):\n",
    "        T_Type = Type[i]\n",
    "        with open(Filename, newline='') as csvfile:\n",
    "            reader = csv.DictReader(csvfile)\n",
    "            for row in reader:\n",
    "                if row[dict_it[0]]==T_Type:\n",
    "                    if row[dict_it[1]]!=Cycle[0]:\n",
    "                        Time.append(float(row[dict_it[2]])) #in seconds\n",
    "                        Size.append(float(row[dict_it[3]])) #in mm\n",
    "                        Force.append(float(row[dict_it[5]]))# in Newtons\n",
    "\n",
    "    try:\n",
    "        os.mkdir(Specimen)\n",
    "    except FileExistsError:\n",
    "        pass\n",
    "\n",
    "    Xlam = np.asarray(Size)/Size[0]\n",
    "    Ylam = 1/Xlam\n",
    "    Cauchy_stress  = Force/(width*thickness*Ylam)\n",
    "    ax.plot(Xlam,Cauchy_stress,lw=2.0)\n",
    "    plt.ylabel(r'$\\sigma$ [MPa]',fontsize=18)\n",
    "    plt.xlabel(r'$\\lambda$ [-]',fontsize=18)\n",
    "    plt.savefig(fname = Specimen+'/Stress_Stretch.png',dpi=300)\n",
    "    plt.close(fig)\n",
    "\n",
    "    for i in range(0,ncycles):\n",
    "        T_Type = Type[i]\n",
    "        Time = []\n",
    "        Size = []\n",
    "        Force = []\n",
    "        Force = []\n",
    "        with open(Filename, newline='') as csvfile:\n",
    "            reader = csv.DictReader(csvfile)\n",
    "            for row in reader:\n",
    "                if row[dict_it[0]]==T_Type:\n",
    "                    if row[dict_it[1]]!=Cycle[0] and row[dict_it[1]]==Cycle[1] :\n",
    "                        Time.append(float(row[dict_it[2]])) #in seconds\n",
    "                        Size.append(float(row[dict_it[3]])) #in mm\n",
    "                        Force.append(float(row[dict_it[5]]))# in Newtons\n",
    "        Xlam = np.asarray(Size)/Size[0]\n",
    "        Ylam = 1/Xlam\n",
    "        Cauchy_stress  = Force/(width*thickness*Ylam)\n",
    "        savetxt(Specimen+'/'+str(i+1)+'.csv',np.transpose(np.asarray([Xlam,Cauchy_stress])),header='Stretch,Cauchy_stress', delimiter=',')\n"
   ]
  },
  {
   "cell_type": "code",
   "execution_count": 18,
   "metadata": {},
   "outputs": [],
   "source": [
    "def Write_Info(Pig, Location, Direction, Ncycles):\n",
    "    with open(\"Info.txt\",'w+') as file:\n",
    "         file.write(f\"Pig: {Pig}\\n\")\n",
    "         file.write(f\"Location: {Location}\\n\")\n",
    "         file.write(f\"Direction: {Direction}\\n\")\n",
    "         file.write(f\"Ncycles: {Ncycles}\\n\")\n",
    "\n",
    "\n"
   ]
  },
  {
   "cell_type": "code",
   "execution_count": 21,
   "metadata": {},
   "outputs": [],
   "source": [
    "for j in range(0,len(DmgDat)):\n",
    "    Specimen = DmgDat['Specimen'][j]\n",
    "    Pig = DmgDat['Pig'][j]\n",
    "    Location = DmgDat['Location'][j]\n",
    "    Direction = DmgDat['Direction'][j]\n",
    "    Ncycles = DmgDat['Ncycles'][j]\n",
    "\n",
    "    os.chdir(Specimen)\n",
    "    Write_Info(Pig,Location,Direction,Ncycles)\n",
    "    os.chdir(\"..\")\n",
    "\n",
    "\n",
    "\n"
   ]
  },
  {
   "cell_type": "code",
   "execution_count": null,
   "metadata": {},
   "outputs": [],
   "source": []
  }
 ],
 "metadata": {
  "kernelspec": {
   "display_name": "Python 3.9.10 ('base')",
   "language": "python",
   "name": "python3"
  },
  "language_info": {
   "codemirror_mode": {
    "name": "ipython",
    "version": 3
   },
   "file_extension": ".py",
   "mimetype": "text/x-python",
   "name": "python",
   "nbconvert_exporter": "python",
   "pygments_lexer": "ipython3",
   "version": "3.9.10"
  },
  "orig_nbformat": 4,
  "vscode": {
   "interpreter": {
    "hash": "84715fe5cc5906c6d0453e02c2ad7cb74a723b6be5d0cb71f1870415b45b5cab"
   }
  }
 },
 "nbformat": 4,
 "nbformat_minor": 2
}
